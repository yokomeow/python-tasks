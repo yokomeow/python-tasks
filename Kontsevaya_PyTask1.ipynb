{
 "cells": [
  {
   "cell_type": "code",
   "execution_count": 115,
   "metadata": {
    "collapsed": false
   },
   "outputs": [],
   "source": [
    "'''\n",
    "\n",
    "by Kontsevaya Vlada, 731a\n",
    "\n",
    "'''\n",
    "\n",
    "\n",
    "class Citizen:\n",
    "    \n",
    "    def __init__(self):\n",
    "        pass\n",
    "    \n",
    " # Getters\n",
    "    \n",
    "    def getName(self):\n",
    "        return self._name\n",
    "    \n",
    "    def getSurname(self):\n",
    "        return self._surname\n",
    "    \n",
    "    def getAge(self):\n",
    "        return self._age\n",
    "    \n",
    "    def getNationality(self):\n",
    "        return self_nationality\n",
    "    \n",
    "    def getRegistration(self):\n",
    "        return self._registration\n",
    "\n",
    " # Setters\n",
    "\n",
    "    \n",
    "    def setName(self, name):\n",
    "        self._name = name\n",
    "    \n",
    "    def setSurname(self, surname):\n",
    "        self._surname = surname\n",
    "        \n",
    "    def setAge(self, age):\n",
    "        self._age = age\n",
    "        \n",
    "    def setNationality(self, nationality):\n",
    "        self._nationality = nationality\n",
    "    \n",
    "    def setRegistration(self, registration):\n",
    "        self._registration = registration   \n",
    "    "
   ]
  },
  {
   "cell_type": "code",
   "execution_count": 116,
   "metadata": {
    "collapsed": true
   },
   "outputs": [],
   "source": [
    "class Employee(Citizen):\n",
    "\n",
    " # Getters\n",
    "    \n",
    "    def getCompanyName(self):\n",
    "        return self._companyName\n",
    "    \n",
    "    def getCompanyAddress(self):\n",
    "        return self._companyAddress\n",
    "    \n",
    "    def getEmployeePhoneNum(self):\n",
    "        return self._employeePhoneNum\n",
    "\n",
    " # Setters\n",
    "    \n",
    "    def setCompanyName(self, companyName):\n",
    "        self._companyName = companyName\n",
    "    \n",
    "    def setCompanyAddress(self, companyAddress):\n",
    "        self._companyAddress = companyAddress\n",
    "    \n",
    "    def setEmployeePhoneNum(self, employeePhoneNum):\n",
    "        self._employeePhoneNum = employeePhoneNum        \n",
    "    "
   ]
  },
  {
   "cell_type": "code",
   "execution_count": 117,
   "metadata": {
    "collapsed": false
   },
   "outputs": [],
   "source": [
    "'''\n",
    "\n",
    "The restriction on the creation of other objects\n",
    "\n",
    "'''\n",
    "\n",
    "from enum import Enum\n",
    "\n",
    "class SciField(Enum):\n",
    "    MATHEMATICS = 'Math'\n",
    "    PHYSICS = 'Physics'\n",
    "    CHEMISTRY = 'Chemistry'\n",
    "    \n",
    "    def __init__(self, name):\n",
    "        self._name = name      \n",
    "    \n",
    "    def getName(self):\n",
    "        return self._name  \n",
    "    \n",
    "    \n",
    "class SciType(Enum):\n",
    "    THEORIST = 'Theorist'\n",
    "    EXPERIMENTER = 'Experimenter'\n",
    "    CALCULATOR = 'Calculator'\n",
    "    \n",
    "    def __init__(self, name):\n",
    "        self._name = name      \n",
    "    \n",
    "    def getName(self):\n",
    "        return self._name "
   ]
  },
  {
   "cell_type": "code",
   "execution_count": 118,
   "metadata": {
    "collapsed": false
   },
   "outputs": [],
   "source": [
    "class Scientist(Employee):\n",
    "\n",
    " # Getters\n",
    "    \n",
    "    def getSciField(self):\n",
    "        return self._sciField\n",
    "    \n",
    "    def getSciType(self):\n",
    "        return self._sciType\n",
    "    \n",
    "    def getNumberOfPublications(self):\n",
    "        return self._numberOfPublications\n",
    "\n",
    " # Setters\n",
    "    \n",
    "    def setSciField(self, sciField):\n",
    "        if(type(sciField) == type('')):\n",
    "            print('Wrong value')\n",
    "            self._sciField = 'error'\n",
    "            return\n",
    "        self._sciField = sciField\n",
    "    \n",
    "    def setSciType(self, sciType):\n",
    "        if(type(sciType) == type('')):\n",
    "            print('Wrong value')\n",
    "            self._sciType = 'error'\n",
    "            return\n",
    "        self._sciType = sciType\n",
    "    \n",
    "    def setNumberOfPublications(self, numberOfPublications):\n",
    "        self._numberOfPublications = numberOfPublications"
   ]
  },
  {
   "cell_type": "code",
   "execution_count": 119,
   "metadata": {
    "collapsed": true
   },
   "outputs": [],
   "source": [
    "class Master(Scientist):\n",
    "    pass\n",
    "\n",
    "class Aspirant(Scientist):\n",
    "    pass\n",
    "\n",
    "class PhD(Scientist):\n",
    "    pass"
   ]
  },
  {
   "cell_type": "code",
   "execution_count": 124,
   "metadata": {
    "collapsed": false
   },
   "outputs": [],
   "source": [
    "Kirill = PhD()\n",
    "\n",
    "#  Scientific fields: Math, Physics, Chemistry\n",
    "\n",
    "sciField1 = SciField('Chemistry')\n",
    "\n",
    "# Scientific types: Theorist, Experimenter, Calculator\n",
    "\n",
    "sciType1 = SciType('Calculator')\n",
    "\n",
    "Kirill.setName('Kirill')\n",
    "Kirill.setSurname('Mikheev')\n",
    "Kirill.setAge(35)\n",
    "Kirill.setNationality('Russian')\n",
    "Kirill.setRegistration('Home')\n",
    "Kirill.setCompanyName('Office')\n",
    "Kirill.setCompanyAddress('Office\\'s house')\n",
    "Kirill.setEmployeePhoneNum(666)\n",
    "Kirill.setSciField(sciField1)\n",
    "Kirill.setSciType(sciType1)\n",
    "Kirill.setNumberOfPublications(100500)\n",
    "\n",
    "print(Kirill.getName(),\n",
    "      Kirill.getAge(),\n",
    "      Kirill.getCompanyName(),\n",
    "      Kirill.getSciField().getName(),\n",
    "      Kirill.getSciType().getName())"
   ]
  },
  {
   "cell_type": "code",
   "execution_count": 130,
   "metadata": {
    "collapsed": false
   },
   "outputs": [
    {
     "name": "stdout",
     "output_type": "stream",
     "text": [
      "Illidan 30 Another office's house 10000000.0 Math Theorist\n"
     ]
    }
   ],
   "source": [
    "Dude = Aspirant()\n",
    "sciField2 = SciField('Math')\n",
    "sciType2 = SciType('Theorist')\n",
    "Dude.setName('Illidan')\n",
    "Dude.setSurname('')\n",
    "Dude.setAge(30)\n",
    "Dude.setNationality('Austrlian')\n",
    "Dude.setRegistration('Another home')\n",
    "Dude.setCompanyName('Another office')\n",
    "Dude.setCompanyAddress('Another office\\'s house')\n",
    "Dude.setEmployeePhoneNum(777)\n",
    "Dude.setSciField(sciField2)\n",
    "Dude.setSciType(sciType2)\n",
    "Dude.setNumberOfPublications(10e6)\n",
    "\n",
    "print(Dude.getName(),\n",
    "      Dude.getAge(),\n",
    "      Dude.getCompanyAddress(),\n",
    "      Dude.getNumberOfPublications(),\n",
    "      Dude.getSciField().getName(),\n",
    "      Dude.getSciType().getName())"
   ]
  },
  {
   "cell_type": "code",
   "execution_count": 135,
   "metadata": {
    "collapsed": false
   },
   "outputs": [
    {
     "name": "stdout",
     "output_type": "stream",
     "text": [
      "Sylvanas Windrunner 100500 the Horde Physics Experimenter\n"
     ]
    }
   ],
   "source": [
    "Lady = Master()\n",
    "sciField3 = SciField('Physics')\n",
    "sciType3 = SciType('Experimenter')\n",
    "Lady.setName('Sylvanas')\n",
    "Lady.setSurname('Windrunner')\n",
    "Lady.setAge(100500)\n",
    "Lady.setNationality('Banshee')\n",
    "Lady.setRegistration('Home')\n",
    "Lady.setCompanyName('the Horde')\n",
    "Lady.setCompanyAddress('the Horde\\'s house')\n",
    "Lady.setEmployeePhoneNum(0.0)\n",
    "Lady.setSciField(sciField3)\n",
    "Lady.setSciType(sciType3)\n",
    "Lady.setNumberOfPublications(1)\n",
    "\n",
    "print(Lady.getName(),\n",
    "      Lady.getSurname(),\n",
    "      Lady.getAge(),\n",
    "      Lady.getCompanyName(),\n",
    "      Lady.getSciField().getName(),\n",
    "      Lady.getSciType().getName())"
   ]
  }
 ],
 "metadata": {
  "kernelspec": {
   "display_name": "Python 3",
   "language": "python",
   "name": "python3"
  },
  "language_info": {
   "codemirror_mode": {
    "name": "ipython",
    "version": 3
   },
   "file_extension": ".py",
   "mimetype": "text/x-python",
   "name": "python",
   "nbconvert_exporter": "python",
   "pygments_lexer": "ipython3",
   "version": "3.6.0"
  }
 },
 "nbformat": 4,
 "nbformat_minor": 2
}
