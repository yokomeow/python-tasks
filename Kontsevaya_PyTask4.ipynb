{
 "cells": [
  {
   "cell_type": "code",
   "execution_count": 95,
   "metadata": {
    "collapsed": true
   },
   "outputs": [],
   "source": [
    "import numpy as np\n",
    "import sympy as smp\n",
    "import IPython.display as ipy\n",
    "from derivativeClass import DerivativeNum4\n",
    "smp.init_printing(use_latex='mathjax')\n",
    "\n",
    "STEP = 10e-3\n",
    "X_LEFT = 0\n",
    "X_RIGHT = 2"
   ]
  },
  {
   "cell_type": "code",
   "execution_count": 96,
   "metadata": {},
   "outputs": [],
   "source": [
    "class MaxNorm:\n",
    "    \"\"\"Вычисление нормы по правилам пространства С0[a, b]\"\"\"\n",
    "\n",
    "    def __init__(self, xLeft, xRight, func):\n",
    "        self.xLeft = xLeft\n",
    "        self.xRight = xRight\n",
    "        self.f = func\n",
    "        self.numBlocks = int((xRight - xLeft) / STEP)\n",
    "\n",
    "    def getX(self):\n",
    "        return np.linspace(self.xLeft, self.xRight, self.numBlocks)\n",
    "    \n",
    "    def calcDistance(self, func1Sym, func2Sym):\n",
    "        self.f = smp.lambdify(xSym, func1Sym - func2Sym)\n",
    "        return self.__call__()\n",
    "\n",
    "    def __call__(self):\n",
    "        x = self.getX()\n",
    "        values = []\n",
    "        \n",
    "        for i in x:\n",
    "            values.append(abs(self.f(i)))\n",
    "\n",
    "        return np.amax(values)\n",
    "\n",
    "\n",
    "class MaxNorm1(MaxNorm):\n",
    "    \"\"\"Вычисление нормы по правилам пространства С1[a, b]\"\"\"\n",
    "\n",
    "    def __call__(self):\n",
    "        res = MaxNorm.__call__(self)\n",
    "        self.f = DerivativeNum4(self.f, STEP)\n",
    "        res += MaxNorm.__call__(self)\n",
    "\n",
    "        return res\n",
    "\n",
    "\n",
    "class MaxNorm2(MaxNorm1):\n",
    "    \"\"\"Вычисление нормы по правилам пространства С2[a, b]\"\"\"\n",
    "\n",
    "    def __call__(self):\n",
    "        res = MaxNorm1.__call__(self)\n",
    "        self.f = DerivativeNum4(DerivativeNum4(self.f, STEP), STEP)\n",
    "        res += MaxNorm.__call__(self)\n",
    "\n",
    "        return res"
   ]
  },
  {
   "cell_type": "code",
   "execution_count": 97,
   "metadata": {},
   "outputs": [
    {
     "output_type": "display_data",
     "data": {
      "text/plain": "⎡                                0.333333333333333             2⎤\n⎢   5          2       ⎛   2    ⎞                      -0.5  -x ⎥\n⎢────────, ──────────, ⎝4⋅x  + 3⎠                 , 2⋅π    ⋅ℯ   ⎥\n⎢   2      cos(x) + 5                                           ⎥\n⎣3⋅x  + 2                                                       ⎦",
      "text/latex": "$$\\left [ \\frac{5}{3 x^{2} + 2}, \\quad \\frac{2}{\\cos{\\left (x \\right )} + 5}, \\quad \\left(4 x^{2} + 3\\right)^{0.333333333333333}, \\quad \\frac{2}{\\pi^{0.5}} e^{- x^{2}}\\right ]$$"
     },
     "metadata": {}
    }
   ],
   "source": [
    "# Тестовые функции\n",
    "\n",
    "xSym = smp.Symbol('x')\n",
    "functionsSym = [5 / (2 + 3 * xSym**2),\n",
    "                2 / (5 + smp.cos(xSym)),\n",
    "               (3 + 4 * xSym**2)**(1 / 3),\n",
    "                2 * (smp.pi)**(-1 / 2) * smp.exp(-xSym**2)]\n",
    "\n",
    "functions = [smp.lambdify(xSym, f) for f in functionsSym]\n",
    "ipy.display(functionsSym)"
   ]
  },
  {
   "cell_type": "code",
   "execution_count": 98,
   "metadata": {},
   "outputs": [
    {
     "output_type": "stream",
     "name": "stdout",
     "text": "[2.5, 0.43631415071190222, 2.6684016487219422, 1.1283791670955126]\n"
    }
   ],
   "source": [
    "# Пример вычисления нормы пространства С0 для каждой функции на заданном отрезке\n",
    "\n",
    "funcMaxNorms = [MaxNorm(X_LEFT, X_RIGHT, f) for f in functions]\n",
    "funcMaxNormsValues = [f() for f in funcMaxNorms]\n",
    "print(funcMaxNormsValues)"
   ]
  },
  {
   "cell_type": "code",
   "execution_count": 99,
   "metadata": {},
   "outputs": [
    {
     "output_type": "stream",
     "name": "stdout",
     "text": "[4.4885088550574466, 0.52298828976640377, 3.4315410950464722, 2.0961722374250042]\n"
    }
   ],
   "source": [
    "# Пример вычисления нормы пространства С1 для каждой функции на заданном отрезке\n",
    "\n",
    "funcMaxNorms1 = [MaxNorm1(X_LEFT, X_RIGHT, f) for f in functions]\n",
    "funcMaxNormsValues1 = [f() for f in funcMaxNorms1]\n",
    "print(funcMaxNormsValues1)"
   ]
  },
  {
   "cell_type": "code",
   "execution_count": 100,
   "metadata": {},
   "outputs": [
    {
     "output_type": "stream",
     "name": "stdout",
     "text": "[25.896019650712063, 0.63624416043042342, 5.025139226652672, 6.4990367853771387]\n"
    }
   ],
   "source": [
    "# Пример вычисления нормы пространства С2 для каждой функции на заданном отрезке\n",
    "\n",
    "funcMaxNorms2 = [MaxNorm2(X_LEFT, X_RIGHT, f) for f in functions]\n",
    "funcMaxNormsValues2 = [f() for f in funcMaxNorms2]\n",
    "print(funcMaxNormsValues2)"
   ]
  },
  {
   "cell_type": "code",
   "execution_count": 102,
   "metadata": {},
   "outputs": [
    {
     "output_type": "stream",
     "name": "stdout",
     "text": "2.16666666667\n2.31125879158\n1.3716208329\n2.23208749801\n0.795045833762\n2.64773466337\n4.18140129959\n4.82816344439\n2.55475484565\n2.92169230308\n1.80240171238\n4.27933325276\n25.5891628813\n27.659436544\n20.8491738921\n4.51437050934\n6.20730868637\n10.2010605158\n"
    }
   ],
   "source": [
    "# Попарные расстояния между функциями в нормированных пространствах С0, С1, С2\n",
    "\n",
    "norms = [MaxNorm, MaxNorm1, MaxNorm2]\n",
    "for norm in norms:\n",
    "    for i in range(len(functionsSym)):\n",
    "        for j in range(i + 1, len(functionsSym)):\n",
    "            if(i != j):\n",
    "                elem = norm(X_LEFT, X_RIGHT, functionsSym[i])\n",
    "                dist = elem.calcDistance(functionsSym[i], functionsSym[j])\n",
    "                print(dist)"
   ]
  },
  {
   "cell_type": "code",
   "execution_count": null,
   "metadata": {},
   "outputs": [],
   "source": []
  }
 ],
 "metadata": {
  "kernelspec": {
   "display_name": "Python 3",
   "language": "python",
   "name": "python3"
  },
  "language_info": {
   "codemirror_mode": {
    "name": "ipython",
    "version": 3
   },
   "file_extension": ".py",
   "mimetype": "text/x-python",
   "name": "python",
   "nbconvert_exporter": "python",
   "pygments_lexer": "ipython3",
   "version": "3.6.0-final"
  }
 },
 "nbformat": 4,
 "nbformat_minor": 2
}